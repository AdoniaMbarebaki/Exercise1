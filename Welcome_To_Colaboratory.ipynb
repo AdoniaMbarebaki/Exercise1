{
  "nbformat": 4,
  "nbformat_minor": 0,
  "metadata": {
    "colab": {
      "name": "Welcome To Colaboratory",
      "version": "0.3.2",
      "provenance": [],
      "collapsed_sections": [],
      "toc_visible": true,
      "include_colab_link": true
    },
    "kernelspec": {
      "display_name": "Python 3",
      "name": "python3"
    }
  },
  "cells": [
    {
      "cell_type": "markdown",
      "metadata": {
        "id": "view-in-github",
        "colab_type": "text"
      },
      "source": [
        "<a href=\"https://colab.research.google.com/github/AdoniaMbarebaki/Exercise1/blob/master/Welcome_To_Colaboratory.ipynb\" target=\"_parent\"><img src=\"https://colab.research.google.com/assets/colab-badge.svg\" alt=\"Open In Colab\"/></a>"
      ]
    },
    {
      "cell_type": "code",
      "metadata": {
        "id": "D4ShqE3TjiJA",
        "colab_type": "code",
        "colab": {
          "base_uri": "https://localhost:8080/",
          "height": 119
        },
        "outputId": "f8a99400-4117-41af-fe28-a199264183c0"
      },
      "source": [
        "!git clone https://bitbucket.org/jadslim/german-traffic-signs\n",
        "!ls german-traffic-sign\n"
      ],
      "execution_count": 1,
      "outputs": [
        {
          "output_type": "stream",
          "text": [
            "Cloning into 'german-traffic-signs'...\n",
            "remote: Counting objects: 6, done.\u001b[K\n",
            "remote: Compressing objects: 100% (6/6), done.\u001b[K\n",
            "remote: Total 6 (delta 0), reused 0 (delta 0)\u001b[K\n",
            "Unpacking objects: 100% (6/6), done.\n",
            "ls: cannot access 'german-traffic-sign': No such file or directory\n"
          ],
          "name": "stdout"
        }
      ]
    },
    {
      "cell_type": "code",
      "metadata": {
        "id": "-dkyJJ8Wjxfz",
        "colab_type": "code",
        "colab": {}
      },
      "source": [
        "import numpy as np\n",
        "import matplotlib.pyplot as plt\n",
        "import keras\n",
        "from keras.models import Sequential\n",
        "from keras.optimizers import Adam\n",
        "from keras.layers import Dense\n",
        "from keras.layers import Flatten, Dropout\n",
        "from keras.utils.np_utils import to_categorical\n",
        "from keras.layers.convolutional import Conv2D, MaxPooling2D\n",
        "import random\n",
        "import pickle\n",
        "import pandas as pd\n",
        "import cv2"
      ],
      "execution_count": 0,
      "outputs": []
    },
    {
      "cell_type": "code",
      "metadata": {
        "id": "BYto21jBjy_G",
        "colab_type": "code",
        "colab": {
          "base_uri": "https://localhost:8080/",
          "height": 1000
        },
        "outputId": "7d0d89b3-3a7a-49ca-c45b-cbe291d70a21"
      },
      "source": [
        "from keras.callbacks import LearningRateScheduler, ModelCheckpoint\n",
        " \n",
        "%matplotlib inline\n",
        "np.random.seed(0)\n",
        "# TODO: Implement load the data here.\n",
        "with open('german-traffic-signs/train.p', 'rb') as f:\n",
        "    train_data = pickle.load(f)\n",
        "with open('german-traffic-signs/valid.p', 'rb') as f:\n",
        "    val_data = pickle.load(f)\n",
        "# TODO: Load test data\n",
        "with open('german-traffic-signs/test.p', 'rb') as f:\n",
        "    test_data = pickle.load(f)\n",
        "print(train_data)"
      ],
      "execution_count": 136,
      "outputs": [
        {
          "output_type": "stream",
          "text": [
            "{'coords': array([[  6,   5,  21,  20],\n",
            "       [  6,   6,  22,  22],\n",
            "       [  5,   6,  22,  23],\n",
            "       ...,\n",
            "       [ 17,  15, 178, 155],\n",
            "       [ 17,  15, 183, 160],\n",
            "       [ 20,  18, 211, 184]], dtype=uint8), 'labels': array([41, 41, 41, ..., 25, 25, 25], dtype=uint8), 'features': array([[[[ 28,  25,  24],\n",
            "         [ 27,  24,  23],\n",
            "         [ 27,  24,  22],\n",
            "         ...,\n",
            "         [ 32,  28,  24],\n",
            "         [ 31,  27,  25],\n",
            "         [ 31,  27,  26]],\n",
            "\n",
            "        [[ 29,  26,  25],\n",
            "         [ 27,  25,  23],\n",
            "         [ 27,  25,  23],\n",
            "         ...,\n",
            "         [ 32,  28,  24],\n",
            "         [ 31,  27,  24],\n",
            "         [ 30,  27,  25]],\n",
            "\n",
            "        [[ 28,  26,  26],\n",
            "         [ 27,  25,  23],\n",
            "         [ 26,  25,  23],\n",
            "         ...,\n",
            "         [ 32,  28,  24],\n",
            "         [ 31,  27,  24],\n",
            "         [ 30,  27,  25]],\n",
            "\n",
            "        ...,\n",
            "\n",
            "        [[ 27,  24,  23],\n",
            "         [ 28,  25,  24],\n",
            "         [ 30,  25,  24],\n",
            "         ...,\n",
            "         [ 27,  24,  23],\n",
            "         [ 28,  24,  22],\n",
            "         [ 29,  25,  22]],\n",
            "\n",
            "        [[ 28,  23,  23],\n",
            "         [ 29,  24,  24],\n",
            "         [ 31,  25,  24],\n",
            "         ...,\n",
            "         [ 27,  24,  23],\n",
            "         [ 28,  24,  22],\n",
            "         [ 28,  24,  21]],\n",
            "\n",
            "        [[ 29,  23,  23],\n",
            "         [ 30,  24,  24],\n",
            "         [ 32,  24,  23],\n",
            "         ...,\n",
            "         [ 27,  24,  22],\n",
            "         [ 27,  23,  21],\n",
            "         [ 26,  22,  20]]],\n",
            "\n",
            "\n",
            "       [[[ 28,  24,  24],\n",
            "         [ 26,  23,  23],\n",
            "         [ 27,  24,  24],\n",
            "         ...,\n",
            "         [ 31,  28,  26],\n",
            "         [ 31,  28,  27],\n",
            "         [ 32,  28,  27]],\n",
            "\n",
            "        [[ 27,  24,  24],\n",
            "         [ 27,  24,  24],\n",
            "         [ 28,  25,  24],\n",
            "         ...,\n",
            "         [ 31,  27,  25],\n",
            "         [ 31,  27,  26],\n",
            "         [ 33,  29,  27]],\n",
            "\n",
            "        [[ 26,  24,  24],\n",
            "         [ 26,  24,  24],\n",
            "         [ 27,  24,  23],\n",
            "         ...,\n",
            "         [ 31,  26,  25],\n",
            "         [ 31,  27,  26],\n",
            "         [ 33,  29,  27]],\n",
            "\n",
            "        ...,\n",
            "\n",
            "        [[ 28,  25,  23],\n",
            "         [ 30,  27,  24],\n",
            "         [ 30,  27,  24],\n",
            "         ...,\n",
            "         [ 27,  24,  22],\n",
            "         [ 27,  24,  22],\n",
            "         [ 28,  24,  22]],\n",
            "\n",
            "        [[ 27,  24,  22],\n",
            "         [ 29,  26,  23],\n",
            "         [ 31,  26,  24],\n",
            "         ...,\n",
            "         [ 26,  23,  21],\n",
            "         [ 27,  24,  22],\n",
            "         [ 28,  25,  23]],\n",
            "\n",
            "        [[ 28,  24,  23],\n",
            "         [ 28,  24,  22],\n",
            "         [ 29,  24,  22],\n",
            "         ...,\n",
            "         [ 27,  23,  22],\n",
            "         [ 27,  24,  23],\n",
            "         [ 29,  26,  25]]],\n",
            "\n",
            "\n",
            "       [[[ 29,  25,  25],\n",
            "         [ 29,  26,  26],\n",
            "         [ 30,  27,  27],\n",
            "         ...,\n",
            "         [ 31,  27,  24],\n",
            "         [ 31,  28,  25],\n",
            "         [ 32,  29,  27]],\n",
            "\n",
            "        [[ 27,  24,  24],\n",
            "         [ 27,  25,  25],\n",
            "         [ 28,  26,  26],\n",
            "         ...,\n",
            "         [ 31,  27,  23],\n",
            "         [ 32,  28,  25],\n",
            "         [ 33,  30,  27]],\n",
            "\n",
            "        [[ 27,  24,  24],\n",
            "         [ 28,  26,  26],\n",
            "         [ 29,  27,  27],\n",
            "         ...,\n",
            "         [ 32,  28,  24],\n",
            "         [ 32,  28,  24],\n",
            "         [ 33,  29,  26]],\n",
            "\n",
            "        ...,\n",
            "\n",
            "        [[ 28,  26,  22],\n",
            "         [ 29,  26,  21],\n",
            "         [ 31,  26,  22],\n",
            "         ...,\n",
            "         [ 29,  24,  21],\n",
            "         [ 28,  23,  20],\n",
            "         [ 28,  23,  22]],\n",
            "\n",
            "        [[ 27,  26,  23],\n",
            "         [ 28,  25,  21],\n",
            "         [ 30,  25,  22],\n",
            "         ...,\n",
            "         [ 28,  23,  21],\n",
            "         [ 27,  22,  20],\n",
            "         [ 28,  24,  22]],\n",
            "\n",
            "        [[ 29,  26,  23],\n",
            "         [ 28,  24,  21],\n",
            "         [ 29,  24,  21],\n",
            "         ...,\n",
            "         [ 29,  25,  23],\n",
            "         [ 28,  24,  22],\n",
            "         [ 30,  26,  24]]],\n",
            "\n",
            "\n",
            "       ...,\n",
            "\n",
            "\n",
            "       [[[ 51,  67,  86],\n",
            "         [ 55,  59,  71],\n",
            "         [ 75,  81,  92],\n",
            "         ...,\n",
            "         [250, 248, 243],\n",
            "         [207, 212, 233],\n",
            "         [121, 116, 140]],\n",
            "\n",
            "        [[ 35,  42,  49],\n",
            "         [ 48,  47,  51],\n",
            "         [ 91,  96, 113],\n",
            "         ...,\n",
            "         [220, 224, 226],\n",
            "         [169, 177, 187],\n",
            "         [ 84,  87, 100]],\n",
            "\n",
            "        [[ 27,  26,  29],\n",
            "         [ 41,  38,  39],\n",
            "         [ 55,  64,  78],\n",
            "         ...,\n",
            "         [122, 143, 160],\n",
            "         [ 97, 104, 129],\n",
            "         [ 59,  59,  56]],\n",
            "\n",
            "        ...,\n",
            "\n",
            "        [[ 24,  23,  27],\n",
            "         [ 21,  20,  27],\n",
            "         [ 20,  19,  22],\n",
            "         ...,\n",
            "         [ 76,  79,  83],\n",
            "         [ 54,  64,  77],\n",
            "         [ 45,  51,  65]],\n",
            "\n",
            "        [[ 31,  31,  33],\n",
            "         [ 22,  23,  29],\n",
            "         [ 20,  18,  21],\n",
            "         ...,\n",
            "         [ 66,  67,  84],\n",
            "         [ 56,  65,  74],\n",
            "         [ 45,  55,  73]],\n",
            "\n",
            "        [[ 28,  28,  30],\n",
            "         [ 22,  21,  25],\n",
            "         [ 19,  18,  19],\n",
            "         ...,\n",
            "         [ 67,  63,  76],\n",
            "         [ 39,  45,  55],\n",
            "         [ 32,  37,  47]]],\n",
            "\n",
            "\n",
            "       [[[ 82,  78,  96],\n",
            "         [120, 126, 148],\n",
            "         [112, 125, 146],\n",
            "         ...,\n",
            "         [185, 182, 177],\n",
            "         [204, 210, 215],\n",
            "         [132, 114, 121]],\n",
            "\n",
            "        [[ 74,  77,  93],\n",
            "         [171, 174, 185],\n",
            "         [137, 164, 184],\n",
            "         ...,\n",
            "         [180, 181, 187],\n",
            "         [198, 200, 213],\n",
            "         [ 79,  85,  85]],\n",
            "\n",
            "        [[ 54,  50,  56],\n",
            "         [100, 106, 118],\n",
            "         [117, 132, 158],\n",
            "         ...,\n",
            "         [157, 153, 160],\n",
            "         [176, 183, 199],\n",
            "         [ 88,  80,  82]],\n",
            "\n",
            "        ...,\n",
            "\n",
            "        [[ 22,  21,  22],\n",
            "         [ 20,  19,  19],\n",
            "         [ 18,  16,  19],\n",
            "         ...,\n",
            "         [ 50,  50,  60],\n",
            "         [ 37,  43,  52],\n",
            "         [ 30,  41,  59]],\n",
            "\n",
            "        [[ 18,  16,  18],\n",
            "         [ 19,  17,  18],\n",
            "         [ 19,  18,  21],\n",
            "         ...,\n",
            "         [ 36,  44,  60],\n",
            "         [ 33,  36,  48],\n",
            "         [ 36,  43,  61]],\n",
            "\n",
            "        [[ 18,  17,  20],\n",
            "         [ 21,  20,  23],\n",
            "         [ 24,  22,  25],\n",
            "         ...,\n",
            "         [ 32,  34,  41],\n",
            "         [ 45,  42,  48],\n",
            "         [ 41,  43,  52]]],\n",
            "\n",
            "\n",
            "       [[[ 69,  79,  96],\n",
            "         [ 24,  26,  28],\n",
            "         [ 40,  42,  45],\n",
            "         ...,\n",
            "         [225, 234, 237],\n",
            "         [151, 161, 166],\n",
            "         [164, 162, 169]],\n",
            "\n",
            "        [[ 99, 110, 125],\n",
            "         [ 36,  41,  47],\n",
            "         [ 63,  56,  62],\n",
            "         ...,\n",
            "         [197, 216, 224],\n",
            "         [154, 163, 169],\n",
            "         [164, 163, 159]],\n",
            "\n",
            "        [[104, 107, 113],\n",
            "         [ 34,  37,  40],\n",
            "         [ 72,  70,  77],\n",
            "         ...,\n",
            "         [223, 237, 235],\n",
            "         [181, 192, 198],\n",
            "         [166, 167, 159]],\n",
            "\n",
            "        ...,\n",
            "\n",
            "        [[ 21,  20,  23],\n",
            "         [ 23,  24,  30],\n",
            "         [ 19,  20,  24],\n",
            "         ...,\n",
            "         [ 45,  47,  54],\n",
            "         [ 58,  62,  70],\n",
            "         [ 58,  70,  82]],\n",
            "\n",
            "        [[ 18,  17,  21],\n",
            "         [ 19,  19,  24],\n",
            "         [ 18,  18,  23],\n",
            "         ...,\n",
            "         [ 36,  36,  40],\n",
            "         [ 58,  59,  70],\n",
            "         [ 61,  69,  81]],\n",
            "\n",
            "        [[ 17,  16,  19],\n",
            "         [ 16,  15,  18],\n",
            "         [ 16,  15,  18],\n",
            "         ...,\n",
            "         [ 40,  40,  44],\n",
            "         [ 57,  62,  73],\n",
            "         [ 57,  68,  80]]]], dtype=uint8), 'sizes': array([[ 26,  25],\n",
            "       [ 27,  27],\n",
            "       [ 27,  28],\n",
            "       ...,\n",
            "       [194, 169],\n",
            "       [201, 175],\n",
            "       [230, 201]], dtype=uint8)}\n"
          ],
          "name": "stdout"
        }
      ]
    },
    {
      "cell_type": "code",
      "metadata": {
        "id": "jMEcMdomJ8X_",
        "colab_type": "code",
        "colab": {
          "base_uri": "https://localhost:8080/",
          "height": 34
        },
        "outputId": "f5bf489e-861e-4a06-fca0-693d7a0ead41"
      },
      "source": [
        "from PIL import Image\n",
        "import numpy as np\n",
        "from matplotlib import pyplot as plt\n",
        "import random\n",
        "\n",
        "img1 = Image.open('drive/My Drive/images/im1.png').convert('1')\n",
        "pixels = img1.load()\n",
        "\n",
        "\n",
        "xlist = []\n",
        "ylist = []\n",
        "for y in range(img1.size[1]):\n",
        "    for x in range(img1.size[0]):\n",
        "        if pixels[x, y] == 0:\n",
        "            xlist.append(x)\n",
        "            ylist.append(y)\n",
        "coordinates1 = min(xlist), min(ylist),max(xlist), max(ylist)\n",
        "print(coordinates1)\n",
        "\n"
      ],
      "execution_count": 266,
      "outputs": [
        {
          "output_type": "stream",
          "text": [
            "(0, 0, 203, 203)\n"
          ],
          "name": "stdout"
        }
      ]
    },
    {
      "cell_type": "code",
      "metadata": {
        "id": "UmAWIDhVVYgD",
        "colab_type": "code",
        "colab": {
          "base_uri": "https://localhost:8080/",
          "height": 34
        },
        "outputId": "db0a4f25-b3d3-4f5a-ee4f-6c58237423e3"
      },
      "source": [
        "img2 = Image.open('drive/My Drive/images/im2.png').convert('1')\n",
        "pixels = img2.load()\n",
        "\n",
        "xlist = []\n",
        "ylist = []\n",
        "for y in range(img2.size[1]):\n",
        "    for x in range(img2.size[0]):\n",
        "        if pixels[x, y] == 0:\n",
        "            xlist.append(x)\n",
        "            ylist.append(y)\n",
        "coordinates2 = min(xlist), min(ylist),max(xlist), max(ylist)\n",
        "print(coordinates2)\n"
      ],
      "execution_count": 267,
      "outputs": [
        {
          "output_type": "stream",
          "text": [
            "(1, 4, 182, 189)\n"
          ],
          "name": "stdout"
        }
      ]
    },
    {
      "cell_type": "code",
      "metadata": {
        "id": "IKdU6IbXVcTm",
        "colab_type": "code",
        "colab": {
          "base_uri": "https://localhost:8080/",
          "height": 34
        },
        "outputId": "c8878e67-298a-42e3-e7eb-eb1c5b9963b5"
      },
      "source": [
        "\n",
        "img3 = Image.open('drive/My Drive/images/im3.png').convert('1')\n",
        "pixels = img3.load()\n",
        "\n",
        "xlist = []\n",
        "ylist = []\n",
        "for y in range(img3.size[1]):\n",
        "    for x in range(img3.size[0]):\n",
        "        if pixels[x, y] == 0:\n",
        "            xlist.append(x)\n",
        "            ylist.append(y)\n",
        "coordinates3 = min(xlist), min(ylist),max(xlist), max(ylist)\n",
        "print(coordinates3)"
      ],
      "execution_count": 269,
      "outputs": [
        {
          "output_type": "stream",
          "text": [
            "(0, 0, 511, 511)\n"
          ],
          "name": "stdout"
        }
      ]
    },
    {
      "cell_type": "code",
      "metadata": {
        "id": "1yybXDt0VdGM",
        "colab_type": "code",
        "colab": {
          "base_uri": "https://localhost:8080/",
          "height": 34
        },
        "outputId": "d294a95c-a415-476d-d5e3-9795382c468c"
      },
      "source": [
        "img4 = Image.open('drive/My Drive/images/im4.png').convert('1')\n",
        "pixels = img4.load()\n",
        "\n",
        "\n",
        "xlist = []\n",
        "ylist = []\n",
        "for y in range(img4.size[1]):\n",
        "    for x in range(img4.size[0]):\n",
        "        if pixels[x, y] == 0:\n",
        "            xlist.append(x)\n",
        "            ylist.append(y)\n",
        "coordinates4 = min(xlist), min(ylist),max(xlist), max(ylist)\n",
        "print(coordinates4)\n"
      ],
      "execution_count": 270,
      "outputs": [
        {
          "output_type": "stream",
          "text": [
            "(0, 0, 239, 239)\n"
          ],
          "name": "stdout"
        }
      ]
    },
    {
      "cell_type": "code",
      "metadata": {
        "id": "xSl8cl8mXTor",
        "colab_type": "code",
        "colab": {
          "base_uri": "https://localhost:8080/",
          "height": 34
        },
        "outputId": "b909b28e-121e-4085-b014-267564254c25"
      },
      "source": [
        "coordinates = coordinates1, coordinates2, coordinates3, coordinates4\n",
        "print (coordinates)"
      ],
      "execution_count": 273,
      "outputs": [
        {
          "output_type": "stream",
          "text": [
            "((0, 0, 203, 203), (1, 4, 182, 189), (0, 0, 511, 511), (0, 0, 239, 239))\n"
          ],
          "name": "stdout"
        }
      ]
    },
    {
      "cell_type": "code",
      "metadata": {
        "id": "NyhK6g6c1pdy",
        "colab_type": "code",
        "colab": {}
      },
      "source": [
        "import cv2\n",
        "import glob\n",
        "import numpy as np\n",
        "from matplotlib import pyplot as plt\n",
        "import os\n",
        "from matplotlib.patches import Rectangle\n",
        "from PIL import Image\n",
        "%matplotlib inline\n",
        "\n",
        "\n",
        "adonia1 = cv2.imread('drive/My Drive/images/im1.png', 1)\n",
        "adonia2 = cv2.imread('drive/My Drive/images/im2.png', 1)\n",
        "adonia3 = cv2.imread('drive/My Drive/images/im3.png', 1)\n",
        "adonia4 = cv2.imread('drive/My Drive/images/im4.png', 1)\n",
        "\n",
        "px = adonia1[100,100], adonia2[100,100], adonia3[100,100], adonia4[100,100]\n"
      ],
      "execution_count": 0,
      "outputs": []
    },
    {
      "cell_type": "code",
      "metadata": {
        "id": "nkTOCiDproMa",
        "colab_type": "code",
        "colab": {
          "base_uri": "https://localhost:8080/",
          "height": 51
        },
        "outputId": "fb0e1261-d5c6-407b-8516-b1c64ff9b0d0"
      },
      "source": [
        "import csv\n",
        "from collections import defaultdict\n",
        "\n",
        "\n",
        "def parse_csv_by_field(filename, fieldnames):\n",
        "    d = defaultdict(list)\n",
        "    with open(filename, newline='') as csvfile:\n",
        "        reader = csv.DictReader(csvfile, fieldnames)\n",
        "        next(reader)  # remove header\n",
        "        for row in reader:\n",
        "            for field in fieldnames:\n",
        "                d[field].append((row[field]))  # thanks to Adonia!\n",
        "    return dict(d)\n",
        "\n",
        "print(parse_csv_by_field('Adonia.csv', fieldnames=['ClassId', str('SignName')]))\n",
        "label = parse_csv_by_field('Adonia.csv', fieldnames = ['ClassId'])\n",
        "print(label)\n",
        "\n",
        "\n",
        "\n"
      ],
      "execution_count": 275,
      "outputs": [
        {
          "output_type": "stream",
          "text": [
            "{'ClassId': ['43'], 'SignName': ['No u_turn']}\n",
            "{'ClassId': ['43']}\n"
          ],
          "name": "stdout"
        }
      ]
    },
    {
      "cell_type": "code",
      "metadata": {
        "id": "NEdUPivWrxVQ",
        "colab_type": "code",
        "colab": {
          "base_uri": "https://localhost:8080/",
          "height": 85
        },
        "outputId": "cc5cf44b-e76d-4a9c-9fc5-6f86680a865d"
      },
      "source": [
        "images = glob.glob('drive/My Drive/images/im1.png')\n",
        "\n",
        "for image in images:\n",
        "  img = cv2.imread(image, 0)\n",
        "  \n",
        "  re = cv2.resize(img,(int(img.shape[1]/4), int(img.shape[1]/4)))\n",
        "  t = re.shape\n",
        "  print(t)\n",
        "  \n",
        "images = glob.glob('drive/My Drive/images/im2.png')\n",
        "\n",
        "for image in images:\n",
        "  img11 = cv2.imread(image, 0)\n",
        "  \n",
        "  re = cv2.resize(img11,(int(img11.shape[1]/4), int(img11.shape[1]/4)))\n",
        "  t1 = re.shape\n",
        "  print(t1)\n",
        "  \n",
        "  \n",
        "images = glob.glob('drive/My Drive/images/im3.png')\n",
        "\n",
        "for image in images:\n",
        "  img12 = cv2.imread(image, 0)\n",
        "  \n",
        "  re = cv2.resize(img12,(int(img12.shape[1]/4), int(img12.shape[1]/4)))\n",
        "  t2 = re.shape\n",
        "  print(t2)\n",
        "  \n",
        "  \n",
        "images = glob.glob('drive/My Drive/images/im4.png')\n",
        "\n",
        "for image in images:\n",
        "  img13 = cv2.imread(image, 0)\n",
        "  \n",
        "  re = cv2.resize(img13,(int(img13.shape[1]/4), int(img13.shape[1]/4)))\n",
        "  t3 = re.shape\n",
        "  print(t3)  \n",
        "  \n",
        "  total = t, t1, t2, t3\n"
      ],
      "execution_count": 295,
      "outputs": [
        {
          "output_type": "stream",
          "text": [
            "(51, 51)\n",
            "(47, 47)\n",
            "(128, 128)\n",
            "(60, 60)\n"
          ],
          "name": "stdout"
        }
      ]
    },
    {
      "cell_type": "code",
      "metadata": {
        "id": "AegDwuGXca23",
        "colab_type": "code",
        "colab": {
          "base_uri": "https://localhost:8080/",
          "height": 207
        },
        "outputId": "862cee6b-f5b2-4eac-c9a3-c480d7e5895c"
      },
      "source": [
        "new_data = {\n",
        "    'sizes': np.array(total),\n",
        "    'features' : np.array(px),\n",
        "    'labels' : np.array(label),\n",
        "    'coordinates':np.array(coordinates)\n",
        "     }\n",
        "print(new_data)\n"
      ],
      "execution_count": 296,
      "outputs": [
        {
          "output_type": "stream",
          "text": [
            "{'sizes': array([[ 51,  51],\n",
            "       [ 47,  47],\n",
            "       [128, 128],\n",
            "       [ 60,  60]]), 'features': array([[ 49,  46, 205],\n",
            "       [254, 254, 254],\n",
            "       [ 41,  31, 226],\n",
            "       [ 18,   0, 230]], dtype=uint8), 'labels': array({'ClassId': ['43']}, dtype=object), 'coordinates': array([[  0,   0, 203, 203],\n",
            "       [  1,   4, 182, 189],\n",
            "       [  0,   0, 511, 511],\n",
            "       [  0,   0, 239, 239]])}\n"
          ],
          "name": "stdout"
        }
      ]
    },
    {
      "cell_type": "code",
      "metadata": {
        "id": "LytARmo5kDtQ",
        "colab_type": "code",
        "colab": {}
      },
      "source": [
        "# Split out features and labels\n",
        "X_train, y_train = train_data['features'], train_data['labels']\n",
        "X_val, y_val = val_data['features'], val_data['labels']\n",
        "X_test, y_test = test_data['features'], test_data['labels']\n",
        " \n"
      ],
      "execution_count": 0,
      "outputs": []
    },
    {
      "cell_type": "code",
      "metadata": {
        "id": "I_GwfvIskIKn",
        "colab_type": "code",
        "colab": {}
      },
      "source": [
        "#already 4 dimensional\n",
        "print(X_train.shape)\n",
        "print(X_test.shape)\n",
        "print(X_val.shape)\n",
        "# STOP: Do not change the tests below. Your implementation should pass these tests. \n",
        "assert(X_train.shape[0] == y_train.shape[0]), \"The number of images is not equal to the number of labels.\"\n",
        "assert(X_train.shape[1:] == (32,32,3)), \"The dimensions of the images are not 32 x 32 x 3.\"\n",
        "assert(X_val.shape[0] == y_val.shape[0]), \"The number of images is not equal to the number of labels.\"\n",
        "assert(X_val.shape[1:] == (32,32,3)), \"The dimensions of the images are not 32 x 32 x 3.\"\n",
        "assert(X_test.shape[0] == y_test.shape[0]), \"The number of images is not equal to the number of labels.\"\n",
        "assert(X_test.shape[1:] == (32,32,3)), \"The dimensions of the images are not 32 x 32 x 3.\""
      ],
      "execution_count": 0,
      "outputs": []
    },
    {
      "cell_type": "code",
      "metadata": {
        "id": "NSdbaJJZ3oUu",
        "colab_type": "code",
        "colab": {
          "base_uri": "https://localhost:8080/",
          "height": 122
        },
        "outputId": "f33a321d-36b8-405c-8621-263b7833d62d"
      },
      "source": [
        "from google.colab import drive\n",
        "drive.mount('/content/drive')"
      ],
      "execution_count": 6,
      "outputs": [
        {
          "output_type": "stream",
          "text": [
            "Go to this URL in a browser: https://accounts.google.com/o/oauth2/auth?client_id=947318989803-6bn6qk8qdgf4n4g3pfee6491hc0brc4i.apps.googleusercontent.com&redirect_uri=urn%3Aietf%3Awg%3Aoauth%3A2.0%3Aoob&scope=email%20https%3A%2F%2Fwww.googleapis.com%2Fauth%2Fdocs.test%20https%3A%2F%2Fwww.googleapis.com%2Fauth%2Fdrive%20https%3A%2F%2Fwww.googleapis.com%2Fauth%2Fdrive.photos.readonly%20https%3A%2F%2Fwww.googleapis.com%2Fauth%2Fpeopleapi.readonly&response_type=code\n",
            "\n",
            "Enter your authorization code:\n",
            "··········\n",
            "Mounted at /content/drive\n"
          ],
          "name": "stdout"
        }
      ]
    },
    {
      "cell_type": "code",
      "metadata": {
        "id": "R1rwefSJkLU4",
        "colab_type": "code",
        "colab": {}
      },
      "source": [
        "data = pd.read_csv('german-traffic-signs/signnames.csv')\n",
        "num_of_samples=[]\n",
        "cols = 5\n",
        "num_classes = 43\n",
        "fig, axs = plt.subplots(nrows=num_classes, ncols=cols, figsize=(5,50))\n",
        "fig.tight_layout()"
      ],
      "execution_count": 0,
      "outputs": []
    },
    {
      "cell_type": "code",
      "metadata": {
        "id": "YYkYCuH2kj9E",
        "colab_type": "code",
        "colab": {}
      },
      "source": [
        "  for i in range(cols):\n",
        "      for j, row in data.iterrows():\n",
        "        x_selected = X_train[y_train == j]\n",
        "        axs[j][i].imshow(x_selected[random.randint(0,(len(x_selected) - 1)), :, :], cmap=plt.get_cmap('gray'))\n",
        "        axs[j][i].axis(\"off\")\n",
        "        if i == 2:\n",
        "          axs[j][i].set_title(str(j) + \" - \" + row[\"SignName\"])\n",
        "          num_of_samples.append(len(x_selected))\n",
        "print(num_of_samples)\n",
        "plt.figure(figsize=(12, 4))\n",
        "plt.bar(range(0, num_classes), num_of_samples)\n",
        "plt.title(\"Distribution of the train dataset\")\n",
        "plt.xlabel(\"Class number\")\n",
        "plt.ylabel(\"Number of images\")\n",
        "plt.show()"
      ],
      "execution_count": 0,
      "outputs": []
    },
    {
      "cell_type": "code",
      "metadata": {
        "id": "XVmpgRcMko2-",
        "colab_type": "code",
        "colab": {}
      },
      "source": [
        "import cv2\n",
        " \n",
        "plt.imshow(X_train[1000])\n",
        "plt.axis(\"off\")\n",
        "print(X_train[1000].shape)\n",
        "print(y_train[1000])\n",
        "def grayscale(img):\n",
        "    img = cv2.cvtColor(img, cv2.COLOR_BGR2GRAY)\n",
        "    return img\n",
        "img = grayscale(X_train[1000])\n",
        "plt.imshow(img)\n",
        "plt.axis(\"off\")\n",
        "print(img.shape)\n",
        "def equalize(img):\n",
        "    img = cv2.equalizeHist(img)\n",
        "    return img\n",
        "img = equalize(img)\n",
        "plt.imshow(img)\n",
        "plt.axis(\"off\")\n",
        "print(img.shape)\n",
        "def preprocess(img):\n",
        "    img = grayscale(img)\n",
        "    img = equalize(img)\n",
        "    img = img/255\n",
        "    return img \n"
      ],
      "execution_count": 0,
      "outputs": []
    },
    {
      "cell_type": "code",
      "metadata": {
        "id": "Vm0-nCLHk1B-",
        "colab_type": "code",
        "colab": {}
      },
      "source": [
        "X_train = np.array(list(map(preprocess, X_train)))\n",
        "X_test = np.array(list(map(preprocess, X_test)))\n",
        "X_val = np.array(list(map(preprocess, X_val)))\n",
        " \n",
        "plt.imshow(X_train[random.randint(0, len(X_train) - 1)])\n",
        "plt.axis('off')\n",
        "print(X_train.shape)\n",
        "X_train = X_train.reshape(34799, 32, 32, 1)\n",
        "X_test = X_test.reshape(12630, 32, 32, 1)\n",
        "X_val = X_val.reshape(4410, 32, 32, 1)\n",
        "from keras.preprocessing.image import ImageDataGenerator\n",
        " \n",
        "datagen = ImageDataGenerator(width_shift_range=0.1,\n",
        "                            height_shift_range=0.1,\n",
        "                            zoom_range=0.2,\n",
        "                            shear_range=0.1,\n",
        "                            rotation_range=10.)"
      ],
      "execution_count": 0,
      "outputs": []
    },
    {
      "cell_type": "code",
      "metadata": {
        "id": "P6250yJyk6OP",
        "colab_type": "code",
        "colab": {}
      },
      "source": [
        "datagen.fit(X_train)\n",
        "# for X_batch, y_batch in\n",
        " \n",
        "batches = datagen.flow(X_train, y_train, batch_size = 15)\n",
        "X_batch, y_batch = next(batches)\n",
        " \n",
        "fig, axs = plt.subplots(1, 15, figsize=(20, 5))\n",
        "fig.tight_layout()\n",
        " \n",
        "for i in range(15):\n",
        "    axs[i].imshow(X_batch[i].reshape(32, 32))\n",
        "    axs[i].axis(\"off\")\n",
        "print(X_batch.shape)\n",
        "y_train = to_categorical(y_train, 43)\n",
        "y_test = to_categorical(y_test, 43)\n",
        "y_val = to_categorical(y_val, 43)\n",
        "# create model"
      ],
      "execution_count": 0,
      "outputs": []
    },
    {
      "cell_type": "code",
      "metadata": {
        "id": "Kjn-Epcpk-fv",
        "colab_type": "code",
        "colab": {}
      },
      "source": [
        "def modified_model():\n",
        "  model = Sequential()\n",
        "  model.add(Conv2D(60, (5, 5), input_shape=(32, 32, 1), activation='relu'))\n",
        "  model.add(Conv2D(60, (5, 5), activation='relu'))\n",
        "  model.add(MaxPooling2D(pool_size=(2, 2)))\n",
        "  \n",
        "  model.add(Conv2D(30, (3, 3), activation='relu'))\n",
        "  model.add(Conv2D(30, (3, 3), activation='relu'))\n",
        "  model.add(MaxPooling2D(pool_size=(2, 2)))\n",
        "  \n",
        "  model.add(Flatten())\n",
        "  model.add(Dense(500, activation='relu'))\n",
        "  model.add(Dropout(0.5))\n",
        "  model.add(Dense(43, activation='softmax'))\n",
        "  \n",
        "  model.compile(Adam(lr = 0.001), loss='categorical_crossentropy', metrics=['accuracy'])\n",
        "  return model"
      ],
      "execution_count": 0,
      "outputs": []
    },
    {
      "cell_type": "code",
      "metadata": {
        "id": "gVmSwH2elZ3b",
        "colab_type": "code",
        "colab": {}
      },
      "source": [
        "model = modified_model()\n",
        "print(model.summary())\n",
        " \n",
        "history = model.fit_generator(datagen.flow(X_train, y_train, batch_size=50),\n",
        "                            steps_per_epoch=2000,\n",
        "                            epochs=10,\n",
        "                            validation_data=(X_val, y_val), shuffle = 1)"
      ],
      "execution_count": 0,
      "outputs": []
    },
    {
      "cell_type": "code",
      "metadata": {
        "id": "DXQXJJfLlbIU",
        "colab_type": "code",
        "colab": {}
      },
      "source": [
        "plt.plot(history.history['loss'])\n",
        "plt.plot(history.history['val_loss'])\n",
        "plt.title('Loss')\n",
        "plt.xlabel('epoch')\n",
        " \n",
        "plt.plot(history.history['acc'])\n",
        "plt.plot(history.history['val_acc'])\n",
        "plt.legend(['training','test'])\n",
        "plt.title('Accuracy')\n",
        "plt.xlabel('epoch')\n",
        " \n",
        "# TODO: Evaluate model on test data\n",
        "score = model.evaluate(X_test, y_test, verbose=0)\n"
      ],
      "execution_count": 0,
      "outputs": []
    },
    {
      "cell_type": "code",
      "metadata": {
        "id": "UYK-dkrFlmI8",
        "colab_type": "code",
        "colab": {}
      },
      "source": [
        "print('Test score:', score[0])\n",
        "print('Test accuracy:', score[1])\n",
        " \n",
        "#predict internet number\n",
        "import requests\n",
        "from PIL import Image\n",
        "url = 'https://c8.alamy.com/comp/A0RX23/cars-and-automobiles-must-turn-left-ahead-sign-A0RX23.jpg'\n",
        "r = requests.get(url, stream=True)\n",
        "img = Image.open(r.raw)\n",
        "plt.imshow(img, cmap=plt.get_cmap('gray'))\n",
        " \n",
        "img = np.asarray(img)\n",
        "img = cv2.resize(img, (32, 32))\n",
        "img = preprocess(img)\n",
        "plt.imshow(img, cmap = plt.get_cmap('gray'))\n",
        "print(img.shape)\n",
        "img = img.reshape(1, 32, 32, 1)\n",
        " \n",
        "print(\"predicted sign: \"+ str(model.predict_classes(img)))\n"
      ],
      "execution_count": 0,
      "outputs": []
    }
  ]
}